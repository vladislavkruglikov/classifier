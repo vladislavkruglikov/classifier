{
 "cells": [
  {
   "cell_type": "code",
   "execution_count": 2,
   "id": "56d44fa0-2b4b-4e38-aa1b-ab13ac1540e5",
   "metadata": {},
   "outputs": [],
   "source": [
    "import sys\n",
    "\n",
    "\n",
    "sys.path.append(\"../\")"
   ]
  },
  {
   "cell_type": "code",
   "execution_count": 10,
   "id": "499ea13f-f578-4e1f-bca5-62b306b6057a",
   "metadata": {},
   "outputs": [],
   "source": [
    "from classifier.constants import (\n",
    "    TENNIS_ITEMS,\n",
    "    FOOTBALL_ITEMS,\n",
    "    BASKETBALL_ITEMS,\n",
    "    WINTER_SPORT_ITEMS,\n",
    "    VOLLEYBALL_ITEMS,\n",
    "    HOCKEY_ITEMS,\n",
    "    ATHLETICS_ITEMS,\n",
    "    ESPORT_ITEMS,\n",
    "    BOARDGAMES_ITEMS,\n",
    "    MOTOSPORT_ITEMS,\n",
    "    AUTOSPORT_ITEMS,\n",
    "    EXTREME_ITEMS,\n",
    "    MARTIAL_ARTS_ITEMS,\n",
    "    CATEGORY_TO_ITEMS\n",
    ")"
   ]
  },
  {
   "cell_type": "code",
   "execution_count": 19,
   "id": "92e72d02-1465-47ee-b7ac-4b7be3066148",
   "metadata": {},
   "outputs": [],
   "source": [
    "import string\n",
    "import pandas as pd\n",
    "\n",
    "from tqdm import tqdm\n",
    "from typing import List, Dict, Set\n",
    "from classifier.voter import Voter\n",
    "from sklearn.metrics import accuracy_score\n",
    "from classifier.factory import build_evaluator\n",
    "from sklearn.linear_model import LogisticRegression\n",
    "from sklearn.model_selection import train_test_split\n",
    "from sklearn.ensemble import GradientBoostingClassifier\n",
    "from sklearn.feature_extraction.text import TfidfVectorizer"
   ]
  },
  {
   "cell_type": "code",
   "execution_count": 20,
   "id": "03b92954-2496-4a5f-bd3e-9a9ead203f19",
   "metadata": {},
   "outputs": [],
   "source": [
    "tqdm.pandas()"
   ]
  },
  {
   "cell_type": "code",
   "execution_count": 23,
   "id": "56cbdbde-bec4-4bbd-ad8e-825d7c78289b",
   "metadata": {},
   "outputs": [],
   "source": [
    "# CATEGORY_NAME = \"tennis\"\n",
    "# evaluator = build_evaluator(CATEGORY_NAME, TENNIS_ITEMS)\n",
    "# evaluator.compute_metrics(validation)\n",
    "# evaluator.compute_false_negative(validation)"
   ]
  },
  {
   "cell_type": "code",
   "execution_count": 11,
   "id": "e8bada53-7995-4816-8812-f33a8a2d5327",
   "metadata": {},
   "outputs": [],
   "source": [
    "mapping = {\n",
    "    \"k\": \"к\",\n",
    "    \"ё\": \"е\",\n",
    "    \"e\": \"е\",\n",
    "    \"a\": \"а\",\n",
    "    \"o\": \"о\",\n",
    "    \"p\": \"р\"\n",
    "}\n",
    "\n",
    "def replace(text: str, mapping: Dict[str, List[str]] = mapping) -> str:\n",
    "    for k, v in mapping.items():\n",
    "        text = text.replace(k, v)\n",
    "    return text\n",
    "\n",
    "\n",
    "def text_has_oov(text: str, vocab: Set[str]):\n",
    "    for char in text:\n",
    "        if char not in vocab:\n",
    "            return True\n",
    "    return False\n",
    "\n",
    "\n",
    "def preprocess(text: str) -> str:\n",
    "    text = text.lower()\n",
    "    text = replace(text)\n",
    "    tokens = text.split()\n",
    "    tokens = [token.strip(string.punctuation) for token in tokens]\n",
    "    tokens = [token for token in tokens if \"id\" not in token]\n",
    "    tokens = [token for token in tokens if not token.isdigit()]\n",
    "    tokens = [token for token in tokens if text_has_oov(token, string.punctuation + \"–\")]\n",
    "    return \" \".join(tokens)"
   ]
  },
  {
   "cell_type": "code",
   "execution_count": 12,
   "id": "e84e0019-66a7-4600-af50-2df1e0bb9579",
   "metadata": {},
   "outputs": [],
   "source": [
    "dataset = pd.read_csv(\"../data/train.csv\")"
   ]
  },
  {
   "cell_type": "code",
   "execution_count": 13,
   "id": "ccf6d9ee-ad23-43cf-b56f-11edcd1a4d35",
   "metadata": {},
   "outputs": [],
   "source": [
    "train, validation = train_test_split(dataset, test_size=0.1, random_state=0)"
   ]
  },
  {
   "cell_type": "code",
   "execution_count": 25,
   "id": "b2e42cec-5d0c-46f4-989e-8558f57c81a2",
   "metadata": {},
   "outputs": [],
   "source": [
    "voter = Voter(category_to_items=CATEGORY_TO_ITEMS, default_category=\"unknown\", default_rank=1)"
   ]
  },
  {
   "cell_type": "code",
   "execution_count": 26,
   "id": "7e1cb1ff-e277-4608-9a39-a32aefd676cf",
   "metadata": {},
   "outputs": [
    {
     "name": "stderr",
     "output_type": "stream",
     "text": [
      "100%|███████████████████████████████████| 34866/34866 [00:13<00:00, 2655.47it/s]\n",
      "/Users/v.kruglikov/Desktop/classifier/notebooks/../classifier/voter.py:29: SettingWithCopyWarning: \n",
      "A value is trying to be set on a copy of a slice from a DataFrame.\n",
      "Try using .loc[row_indexer,col_indexer] = value instead\n",
      "\n",
      "See the caveats in the documentation: https://pandas.pydata.org/pandas-docs/stable/user_guide/indexing.html#returning-a-view-versus-a-copy\n",
      "  df[\"category_predicted\"] = categories\n",
      "/Users/v.kruglikov/Desktop/classifier/notebooks/../classifier/voter.py:30: SettingWithCopyWarning: \n",
      "A value is trying to be set on a copy of a slice from a DataFrame.\n",
      "Try using .loc[row_indexer,col_indexer] = value instead\n",
      "\n",
      "See the caveats in the documentation: https://pandas.pydata.org/pandas-docs/stable/user_guide/indexing.html#returning-a-view-versus-a-copy\n",
      "  df[\"category_predicted_rank\"] = ranks\n"
     ]
    }
   ],
   "source": [
    "train = voter.vote(train)"
   ]
  },
  {
   "cell_type": "code",
   "execution_count": 27,
   "id": "e7633d26-535d-4ec4-bb85-61b47a46605e",
   "metadata": {},
   "outputs": [
    {
     "name": "stderr",
     "output_type": "stream",
     "text": [
      "100%|█████████████████████████████████████| 3874/3874 [00:01<00:00, 2675.28it/s]\n"
     ]
    }
   ],
   "source": [
    "validation = voter.vote(validation)"
   ]
  },
  {
   "cell_type": "code",
   "execution_count": 14,
   "id": "71da8fce-677e-445b-80aa-f9637c195ec8",
   "metadata": {},
   "outputs": [
    {
     "name": "stderr",
     "output_type": "stream",
     "text": [
      "100%|██████████████████████████████████| 34866/34866 [00:01<00:00, 21290.91it/s]\n",
      "/var/folders/q9/6790w_j50r572khy5x5l8tym0000gq/T/ipykernel_64226/4123371846.py:1: SettingWithCopyWarning: \n",
      "A value is trying to be set on a copy of a slice from a DataFrame.\n",
      "Try using .loc[row_indexer,col_indexer] = value instead\n",
      "\n",
      "See the caveats in the documentation: https://pandas.pydata.org/pandas-docs/stable/user_guide/indexing.html#returning-a-view-versus-a-copy\n",
      "  train[\"text_preprocessed\"] = train[\"text\"].progress_apply(preprocess)\n"
     ]
    }
   ],
   "source": [
    "train[\"text_preprocessed\"] = train[\"text\"].progress_apply(preprocess)"
   ]
  },
  {
   "cell_type": "code",
   "execution_count": 15,
   "id": "36a54edf-ccd9-46ec-b920-3338cc3fbfec",
   "metadata": {},
   "outputs": [
    {
     "name": "stderr",
     "output_type": "stream",
     "text": [
      "100%|████████████████████████████████████| 3874/3874 [00:00<00:00, 19513.73it/s]\n",
      "/var/folders/q9/6790w_j50r572khy5x5l8tym0000gq/T/ipykernel_64226/2828729090.py:1: SettingWithCopyWarning: \n",
      "A value is trying to be set on a copy of a slice from a DataFrame.\n",
      "Try using .loc[row_indexer,col_indexer] = value instead\n",
      "\n",
      "See the caveats in the documentation: https://pandas.pydata.org/pandas-docs/stable/user_guide/indexing.html#returning-a-view-versus-a-copy\n",
      "  validation[\"text_preprocessed\"] = validation[\"text\"].progress_apply(preprocess)\n"
     ]
    }
   ],
   "source": [
    "validation[\"text_preprocessed\"] = validation[\"text\"].progress_apply(preprocess)"
   ]
  },
  {
   "cell_type": "code",
   "execution_count": 32,
   "id": "958cd41f-e255-4b87-9325-70cdd2244e21",
   "metadata": {},
   "outputs": [
    {
     "data": {
      "text/plain": [
       "0.8152173913043478"
      ]
     },
     "execution_count": 32,
     "metadata": {},
     "output_type": "execute_result"
    }
   ],
   "source": [
    "# score of reg exp classifier\n",
    "accuracy_score(\n",
    "    y_true=validation[validation.category_predicted != \"unknown\"].category, \n",
    "    y_pred=validation[validation.category_predicted != \"unknown\"].category_predicted\n",
    ")"
   ]
  },
  {
   "cell_type": "markdown",
   "id": "054c77d3-3a78-44e7-aedd-e51b6d18ed08",
   "metadata": {},
   "source": [
    "## Train second stage model"
   ]
  },
  {
   "cell_type": "code",
   "execution_count": 33,
   "id": "8ff05565-920d-4682-93ed-210fac3dec9b",
   "metadata": {},
   "outputs": [
    {
     "data": {
      "text/plain": [
       "TfidfVectorizer()"
      ]
     },
     "execution_count": 33,
     "metadata": {},
     "output_type": "execute_result"
    }
   ],
   "source": [
    "vectorizer = TfidfVectorizer()\n",
    "vectorizer.fit(train.text_preprocessed)"
   ]
  },
  {
   "cell_type": "code",
   "execution_count": 34,
   "id": "208ac08b-22a6-4612-8292-64fe831257ce",
   "metadata": {},
   "outputs": [],
   "source": [
    "model = LogisticRegression()"
   ]
  },
  {
   "cell_type": "code",
   "execution_count": null,
   "id": "a1d67831-3681-4dfc-8488-70dae4cd4f1d",
   "metadata": {},
   "outputs": [],
   "source": [
    "model.fit(vectorizer.transform(train.text_preprocessed).toarray(), train.category)"
   ]
  },
  {
   "cell_type": "code",
   "execution_count": null,
   "id": "70ea72eb-0bc1-4f03-b5b2-f81adcc1fd02",
   "metadata": {},
   "outputs": [],
   "source": [
    "# model perfomance\n",
    "accuracy_score(\n",
    "    y_true=model.predict(vectorizer.transform(validation.text_preprocessed).toarray()),\n",
    "    y_pred=validation.category\n",
    ")"
   ]
  },
  {
   "cell_type": "code",
   "execution_count": null,
   "id": "166e29a8-e2a0-4506-be15-097a91cdaf18",
   "metadata": {},
   "outputs": [],
   "source": [
    "# Model perfomance where reg exp gives unknown\n",
    "metrics.accuracy_score(\n",
    "    y_true=validation[validation.category_predicted == \"unknown\"].category, \n",
    "    y_pred=model.predict(\n",
    "        vectorizer.transform(\n",
    "            validation[validation.category_predicted == \"unknown\"].text_preprocessed\n",
    "        ),\n",
    "    )\n",
    ")"
   ]
  },
  {
   "cell_type": "markdown",
   "id": "100c454b-6559-43d2-abbf-2d73ade8ce42",
   "metadata": {},
   "source": [
    "## Submit"
   ]
  },
  {
   "cell_type": "code",
   "execution_count": null,
   "id": "5c6caf54-1741-4973-a4aa-1695c1db2a14",
   "metadata": {},
   "outputs": [],
   "source": [
    "hidden = pd.read_csv(\"../data/test.csv\")\n",
    "hidden[\"text_preprocessed\"] = hidden[\"text\"].apply(preprocess)\n",
    "hidden[\"category\"] = model.predict(vectorizer.transform(hidden.text_preprocessed))\n",
    "hidden[[\"oid\", \"category\"]].to_csv(\"../data/submission.csv\", index=False)"
   ]
  }
 ],
 "metadata": {
  "kernelspec": {
   "display_name": "Python 3 (ipykernel)",
   "language": "python",
   "name": "python3"
  },
  "language_info": {
   "codemirror_mode": {
    "name": "ipython",
    "version": 3
   },
   "file_extension": ".py",
   "mimetype": "text/x-python",
   "name": "python",
   "nbconvert_exporter": "python",
   "pygments_lexer": "ipython3",
   "version": "3.9.7"
  }
 },
 "nbformat": 4,
 "nbformat_minor": 5
}
