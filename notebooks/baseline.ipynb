{
 "cells": [
  {
   "cell_type": "code",
   "execution_count": 1,
   "id": "2c578a8d",
   "metadata": {},
   "outputs": [],
   "source": [
    "%load_ext autoreload\n",
    "%autoreload 2"
   ]
  },
  {
   "cell_type": "code",
   "execution_count": 2,
   "id": "d3cfb502",
   "metadata": {},
   "outputs": [],
   "source": [
    "import sys\n",
    "\n",
    "\n",
    "sys.path.append(\"../\")"
   ]
  },
  {
   "cell_type": "code",
   "execution_count": 3,
   "id": "d9046541",
   "metadata": {},
   "outputs": [],
   "source": [
    "from classifier.constants import (\n",
    "    TENNIS_ITEMS,\n",
    "    FOOTBALL_ITEMS,\n",
    "    BASKETBALL_ITEMS,\n",
    "    WINTER_SPORT_ITEMS,\n",
    "    VOLLEYBALL_ITEMS,\n",
    "    HOCKEY_ITEMS,\n",
    "    ATHLETICS_ITEMS,\n",
    "    ESPORT_ITEMS,\n",
    "    BOARDGAMES_ITEMS,\n",
    "    MOTOSPORT_ITEMS,\n",
    "    AUTOSPORT_ITEMS,\n",
    "    EXTREME_ITEMS,\n",
    "    MARTIAL_ARTS_ITEMS,\n",
    "    CATEGORY_TO_ITEMS\n",
    ")"
   ]
  },
  {
   "cell_type": "code",
   "execution_count": 4,
   "id": "bbc280e1",
   "metadata": {},
   "outputs": [
    {
     "name": "stderr",
     "output_type": "stream",
     "text": [
      "[nltk_data] Downloading package stopwords to /home/zel1k7/nltk_data...\n",
      "[nltk_data]   Package stopwords is already up-to-date!\n"
     ]
    }
   ],
   "source": [
    "import string\n",
    "import pandas as pd\n",
    "import numpy as np\n",
    "\n",
    "from tqdm import tqdm\n",
    "from typing import List, Dict, Set\n",
    "from classifier.voter import Voter\n",
    "from classifier.preprocessor import Preprocessor\n",
    "from sklearn.metrics import accuracy_score\n",
    "from classifier.factory import build_evaluator\n",
    "from sklearn.linear_model import LogisticRegression\n",
    "from sklearn.model_selection import train_test_split\n",
    "from sklearn.ensemble import GradientBoostingClassifier\n",
    "from sklearn.feature_extraction.text import TfidfVectorizer\n"
   ]
  },
  {
   "cell_type": "code",
   "execution_count": 5,
   "id": "d2675c04",
   "metadata": {},
   "outputs": [],
   "source": [
    "tqdm.pandas()"
   ]
  },
  {
   "cell_type": "code",
   "execution_count": 6,
   "id": "0fdc9089",
   "metadata": {},
   "outputs": [],
   "source": [
    "dataset = pd.read_csv(\"../data/train.csv\")"
   ]
  },
  {
   "cell_type": "code",
   "execution_count": 7,
   "id": "a4d328d8",
   "metadata": {},
   "outputs": [],
   "source": [
    "train, validation = train_test_split(dataset, test_size=0.1, random_state=0)"
   ]
  },
  {
   "cell_type": "code",
   "execution_count": 8,
   "id": "80b83501",
   "metadata": {},
   "outputs": [],
   "source": [
    "voter = Voter(category_to_items=CATEGORY_TO_ITEMS, default_category=\"unknown\", default_rank=1)"
   ]
  },
  {
   "cell_type": "code",
   "execution_count": 9,
   "id": "0f0c7174",
   "metadata": {},
   "outputs": [
    {
     "name": "stderr",
     "output_type": "stream",
     "text": [
      "100%|███████████████████████████████████| 34866/34866 [00:08<00:00, 3974.54it/s]\n"
     ]
    }
   ],
   "source": [
    "train = voter.vote(train)"
   ]
  },
  {
   "cell_type": "code",
   "execution_count": 10,
   "id": "75469eeb",
   "metadata": {},
   "outputs": [
    {
     "name": "stderr",
     "output_type": "stream",
     "text": [
      "100%|█████████████████████████████████████| 3874/3874 [00:01<00:00, 3276.65it/s]\n"
     ]
    }
   ],
   "source": [
    "validation = voter.vote(validation)"
   ]
  },
  {
   "cell_type": "code",
   "execution_count": 11,
   "id": "67029642",
   "metadata": {},
   "outputs": [],
   "source": [
    "preprocessor = Preprocessor()"
   ]
  },
  {
   "cell_type": "code",
   "execution_count": 12,
   "id": "02da7019",
   "metadata": {},
   "outputs": [],
   "source": [
    "train[\"text_preprocessed\"] = preprocessor.preprocess(train.text)"
   ]
  },
  {
   "cell_type": "code",
   "execution_count": 13,
   "id": "313278ea",
   "metadata": {},
   "outputs": [],
   "source": [
    "validation[\"text_preprocessed\"] = preprocessor.preprocess(validation.text)"
   ]
  },
  {
   "cell_type": "code",
   "execution_count": 14,
   "id": "aa54c725",
   "metadata": {},
   "outputs": [
    {
     "data": {
      "text/plain": [
       "0.8152173913043478"
      ]
     },
     "execution_count": 14,
     "metadata": {},
     "output_type": "execute_result"
    }
   ],
   "source": [
    "# score of reg exp classifier\n",
    "accuracy_score(\n",
    "    y_true=validation[validation.category_predicted != \"unknown\"].category, \n",
    "    y_pred=validation[validation.category_predicted != \"unknown\"].category_predicted\n",
    ")"
   ]
  },
  {
   "cell_type": "markdown",
   "id": "a3b9e823",
   "metadata": {},
   "source": [
    "## Train second stage model"
   ]
  },
  {
   "cell_type": "code",
   "execution_count": 15,
   "id": "1c1d9813",
   "metadata": {},
   "outputs": [
    {
     "data": {
      "text/plain": [
       "TfidfVectorizer()"
      ]
     },
     "execution_count": 15,
     "metadata": {},
     "output_type": "execute_result"
    }
   ],
   "source": [
    "vectorizer = TfidfVectorizer()\n",
    "vectorizer.fit(train.text_preprocessed)"
   ]
  },
  {
   "cell_type": "code",
   "execution_count": 16,
   "id": "dac06e87",
   "metadata": {},
   "outputs": [],
   "source": [
    "model = LogisticRegression()"
   ]
  },
  {
   "cell_type": "code",
   "execution_count": 17,
   "id": "05ae5794",
   "metadata": {},
   "outputs": [
    {
     "name": "stderr",
     "output_type": "stream",
     "text": [
      "/home/zel1k7/anaconda3/envs/home_env/lib/python3.7/site-packages/sklearn/linear_model/_logistic.py:818: ConvergenceWarning: lbfgs failed to converge (status=1):\n",
      "STOP: TOTAL NO. of ITERATIONS REACHED LIMIT.\n",
      "\n",
      "Increase the number of iterations (max_iter) or scale the data as shown in:\n",
      "    https://scikit-learn.org/stable/modules/preprocessing.html\n",
      "Please also refer to the documentation for alternative solver options:\n",
      "    https://scikit-learn.org/stable/modules/linear_model.html#logistic-regression\n",
      "  extra_warning_msg=_LOGISTIC_SOLVER_CONVERGENCE_MSG,\n"
     ]
    },
    {
     "data": {
      "text/plain": [
       "LogisticRegression()"
      ]
     },
     "execution_count": 17,
     "metadata": {},
     "output_type": "execute_result"
    }
   ],
   "source": [
    "model.fit(vectorizer.transform(train.text_preprocessed), train.category)"
   ]
  },
  {
   "cell_type": "code",
   "execution_count": 18,
   "id": "2a4a67e1",
   "metadata": {},
   "outputs": [
    {
     "data": {
      "text/plain": [
       "0.8440887971089314"
      ]
     },
     "execution_count": 18,
     "metadata": {},
     "output_type": "execute_result"
    }
   ],
   "source": [
    "# model perfomance\n",
    "accuracy_score(\n",
    "    y_true=model.predict(vectorizer.transform(validation.text_preprocessed).toarray()),\n",
    "    y_pred=validation.category\n",
    ")"
   ]
  },
  {
   "cell_type": "code",
   "execution_count": 19,
   "id": "c13f59c3",
   "metadata": {},
   "outputs": [
    {
     "data": {
      "text/plain": [
       "0.7877030162412993"
      ]
     },
     "execution_count": 19,
     "metadata": {},
     "output_type": "execute_result"
    }
   ],
   "source": [
    "# Model perfomance where reg exp gives unknown\n",
    "accuracy_score(\n",
    "    y_true=validation[validation.category_predicted == \"unknown\"].category, \n",
    "    y_pred=model.predict(\n",
    "        vectorizer.transform(\n",
    "            validation[validation.category_predicted == \"unknown\"].text_preprocessed\n",
    "        ),\n",
    "    )\n",
    ")\n"
   ]
  },
  {
   "cell_type": "code",
   "execution_count": 20,
   "id": "e389f0c6",
   "metadata": {},
   "outputs": [],
   "source": [
    "THRESHOLD = 0.65"
   ]
  },
  {
   "cell_type": "markdown",
   "id": "f0fdea73",
   "metadata": {},
   "source": [
    "## Submit"
   ]
  },
  {
   "cell_type": "code",
   "execution_count": 21,
   "id": "67cabed7",
   "metadata": {},
   "outputs": [
    {
     "name": "stderr",
     "output_type": "stream",
     "text": [
      "100%|████████████████████████████████████| 26260/26260 [01:29<00:00, 293.43it/s]\n"
     ]
    }
   ],
   "source": [
    "hidden = pd.read_csv(\"../data/test.csv\")\n",
    "hidden[\"text_preprocessed\"] = preprocessor.preprocess(hidden.text)\n",
    "hidden[\"predictions\"] = hidden.text_preprocessed.progress_apply(\n",
    "    lambda text: model.predict_proba(vectorizer.transform([text]))\n",
    ")\n",
    "hidden[\"predictions\"] = hidden[\"predictions\"].apply(lambda x: x[0])\n",
    "hidden[\"category\"] = hidden.predictions.apply(\n",
    "    lambda predictions: model.classes_[np.argmax(predictions)] if max(predictions) >= THRESHOLD else None\n",
    ")\n",
    "hidden[~hidden.category.isna()][[\"oid\", \"category\"]].to_csv(\"../data/submission.csv\", index=False)"
   ]
  }
 ],
 "metadata": {
  "kernelspec": {
   "display_name": "Python 3 (ipykernel)",
   "language": "python",
   "name": "python3"
  },
  "language_info": {
   "codemirror_mode": {
    "name": "ipython",
    "version": 3
   },
   "file_extension": ".py",
   "mimetype": "text/x-python",
   "name": "python",
   "nbconvert_exporter": "python",
   "pygments_lexer": "ipython3",
   "version": "3.7.13"
  }
 },
 "nbformat": 4,
 "nbformat_minor": 5
}
