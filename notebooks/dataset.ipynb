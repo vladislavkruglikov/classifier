{
 "cells": [
  {
   "cell_type": "code",
   "execution_count": 1,
   "id": "b20e1e06",
   "metadata": {},
   "outputs": [],
   "source": [
    "import sys\n",
    "\n",
    "sys.path.append(\"../\")"
   ]
  },
  {
   "cell_type": "code",
   "execution_count": 20,
   "id": "62173e55",
   "metadata": {},
   "outputs": [],
   "source": [
    "import pandas as pd\n",
    "\n",
    "from classifier.constants import (\n",
    "    TENNIS_ITEMS,\n",
    "    FOOTBALL_ITEMS,\n",
    "    BASKETBALL_ITEMS,\n",
    "    WINTER_SPORT_ITEMS,\n",
    "    VOLLEYBALL_ITEMS,\n",
    "    HOCKEY_ITEMS,\n",
    "    ATHLETICS_ITEMS,\n",
    "    ESPORT_ITEMS,\n",
    "    BOARDGAMES_ITEMS,\n",
    "    MOTOSPORT_ITEMS,\n",
    "    AUTOSPORT_ITEMS,\n",
    "    EXTREME_ITEMS,\n",
    "    MARTIAL_ARTS_ITEMS,\n",
    "    CATEGORY_TO_ITEMS\n",
    ")\n",
    "from tqdm import tqdm\n",
    "from collections import Counter\n",
    "from classifier.voter import Voter\n",
    "from classifier.factory import build_evaluator\n",
    "from classifier.preprocessor import Preprocessor"
   ]
  },
  {
   "cell_type": "code",
   "execution_count": 3,
   "id": "7828df09",
   "metadata": {},
   "outputs": [],
   "source": [
    "tqdm.pandas()"
   ]
  },
  {
   "cell_type": "code",
   "execution_count": 4,
   "id": "1d0c7eac",
   "metadata": {},
   "outputs": [],
   "source": [
    "df = pd.read_csv(\"../data/train.csv\")"
   ]
  },
  {
   "cell_type": "code",
   "execution_count": 5,
   "id": "32e22fd4",
   "metadata": {},
   "outputs": [],
   "source": [
    "preprocessor = Preprocessor(\n",
    "    do_stem=False,\n",
    "    remove_stop_words=True, \n",
    "    black_list=r\"\\b.*id.*\\b\",\n",
    "    remove_single_letter_token=True,\n",
    "    max_token_length=25,\n",
    ")"
   ]
  },
  {
   "cell_type": "code",
   "execution_count": 6,
   "id": "92f5a91c",
   "metadata": {},
   "outputs": [
    {
     "name": "stderr",
     "output_type": "stream",
     "text": [
      "100% 38740/38740 [00:14<00:00, 2657.33it/s]\n"
     ]
    }
   ],
   "source": [
    "df[\"text_preprocessed\"] = df[\"text\"].progress_apply(preprocessor._preprocess)"
   ]
  },
  {
   "cell_type": "code",
   "execution_count": 7,
   "id": "0b6a07cb",
   "metadata": {},
   "outputs": [],
   "source": [
    "voter = Voter(category_to_items=CATEGORY_TO_ITEMS, default_category=\"unknown\", default_rank=1)"
   ]
  },
  {
   "cell_type": "code",
   "execution_count": 8,
   "id": "9183b4b2",
   "metadata": {},
   "outputs": [
    {
     "name": "stderr",
     "output_type": "stream",
     "text": [
      "100% 38740/38740 [00:17<00:00, 2156.49it/s]\n"
     ]
    }
   ],
   "source": [
    "categories, ranks = voter.vote(df.text_preprocessed)"
   ]
  },
  {
   "cell_type": "code",
   "execution_count": 10,
   "id": "f875b27a",
   "metadata": {},
   "outputs": [],
   "source": [
    "df[\"rank\"]     = ranks\n",
    "df[\"category\"] = categories"
   ]
  },
  {
   "cell_type": "code",
   "execution_count": 11,
   "id": "25fa0ccf",
   "metadata": {},
   "outputs": [
    {
     "data": {
      "text/html": [
       "<div>\n",
       "<style scoped>\n",
       "    .dataframe tbody tr th:only-of-type {\n",
       "        vertical-align: middle;\n",
       "    }\n",
       "\n",
       "    .dataframe tbody tr th {\n",
       "        vertical-align: top;\n",
       "    }\n",
       "\n",
       "    .dataframe thead th {\n",
       "        text-align: right;\n",
       "    }\n",
       "</style>\n",
       "<table border=\"1\" class=\"dataframe\">\n",
       "  <thead>\n",
       "    <tr style=\"text-align: right;\">\n",
       "      <th></th>\n",
       "      <th>oid</th>\n",
       "      <th>category</th>\n",
       "      <th>text</th>\n",
       "      <th>text_preprocessed</th>\n",
       "      <th>rank</th>\n",
       "    </tr>\n",
       "  </thead>\n",
       "  <tbody>\n",
       "    <tr>\n",
       "      <th>0</th>\n",
       "      <td>365271984</td>\n",
       "      <td>winter_sport</td>\n",
       "      <td>Волшебные фото Виктория Поплавская ЕвгенияМедв...</td>\n",
       "      <td>волшебные фото виктория поплавская евгениямедв...</td>\n",
       "      <td>2</td>\n",
       "    </tr>\n",
       "    <tr>\n",
       "      <th>1</th>\n",
       "      <td>503385563</td>\n",
       "      <td>unknown</td>\n",
       "      <td>Возвращение в подземелье Треша 33 Эйфория тупо...</td>\n",
       "      <td>возвращение подземелье треша эйфория тупости ж...</td>\n",
       "      <td>1</td>\n",
       "    </tr>\n",
       "    <tr>\n",
       "      <th>2</th>\n",
       "      <td>146016084</td>\n",
       "      <td>hockey</td>\n",
       "      <td>Лучшие чешские вратари – Доминик Доминатор Гаш...</td>\n",
       "      <td>лучшие чешские вратари доминик доминатор гашек...</td>\n",
       "      <td>2</td>\n",
       "    </tr>\n",
       "    <tr>\n",
       "      <th>3</th>\n",
       "      <td>933865449</td>\n",
       "      <td>unknown</td>\n",
       "      <td>Rtokenoid Warhammer40k валрак решил нас подкор...</td>\n",
       "      <td>wаrhаmmеr40к валрак решил подкормить сильно св...</td>\n",
       "      <td>1</td>\n",
       "    </tr>\n",
       "    <tr>\n",
       "      <th>4</th>\n",
       "      <td>713550145</td>\n",
       "      <td>hockey</td>\n",
       "      <td>Шестеркин затаскивает Рейнджерс в финал Восточ...</td>\n",
       "      <td>шестеркин затаскивает рейнджерс финал восточно...</td>\n",
       "      <td>4</td>\n",
       "    </tr>\n",
       "    <tr>\n",
       "      <th>...</th>\n",
       "      <td>...</td>\n",
       "      <td>...</td>\n",
       "      <td>...</td>\n",
       "      <td>...</td>\n",
       "      <td>...</td>\n",
       "    </tr>\n",
       "    <tr>\n",
       "      <th>38735</th>\n",
       "      <td>910636962</td>\n",
       "      <td>unknown</td>\n",
       "      <td>8 битная буря снова накрыла пикселями автомоби...</td>\n",
       "      <td>битная буря снова накрыла пикселями автомобиль...</td>\n",
       "      <td>1</td>\n",
       "    </tr>\n",
       "    <tr>\n",
       "      <th>38736</th>\n",
       "      <td>669736851</td>\n",
       "      <td>unknown</td>\n",
       "      <td>Ира Сидоркова объясняет как сказалась на ее ма...</td>\n",
       "      <td>ира сидоркова объясняет сказалась машине резул...</td>\n",
       "      <td>1</td>\n",
       "    </tr>\n",
       "    <tr>\n",
       "      <th>38737</th>\n",
       "      <td>558919241</td>\n",
       "      <td>unknown</td>\n",
       "      <td>24 я ракетка мира хорват Марин Чилич обыграл и...</td>\n",
       "      <td>ракетка мира хорват марин чилич обыграл испанц...</td>\n",
       "      <td>1</td>\n",
       "    </tr>\n",
       "    <tr>\n",
       "      <th>38738</th>\n",
       "      <td>776944963</td>\n",
       "      <td>basketball</td>\n",
       "      <td>Стал известен календарь мужской сборной России...</td>\n",
       "      <td>стал известен календарь мужской сборной россии...</td>\n",
       "      <td>2</td>\n",
       "    </tr>\n",
       "    <tr>\n",
       "      <th>38739</th>\n",
       "      <td>577334983</td>\n",
       "      <td>unknown</td>\n",
       "      <td>Первенство ВХЛ. Первый этап Динамо Алтай Бн ЦС...</td>\n",
       "      <td>первенство вхл первый этап динамо алтай бн цск...</td>\n",
       "      <td>1</td>\n",
       "    </tr>\n",
       "  </tbody>\n",
       "</table>\n",
       "<p>38740 rows × 5 columns</p>\n",
       "</div>"
      ],
      "text/plain": [
       "             oid      category  \\\n",
       "0      365271984  winter_sport   \n",
       "1      503385563       unknown   \n",
       "2      146016084        hockey   \n",
       "3      933865449       unknown   \n",
       "4      713550145        hockey   \n",
       "...          ...           ...   \n",
       "38735  910636962       unknown   \n",
       "38736  669736851       unknown   \n",
       "38737  558919241       unknown   \n",
       "38738  776944963    basketball   \n",
       "38739  577334983       unknown   \n",
       "\n",
       "                                                    text  \\\n",
       "0      Волшебные фото Виктория Поплавская ЕвгенияМедв...   \n",
       "1      Возвращение в подземелье Треша 33 Эйфория тупо...   \n",
       "2      Лучшие чешские вратари – Доминик Доминатор Гаш...   \n",
       "3      Rtokenoid Warhammer40k валрак решил нас подкор...   \n",
       "4      Шестеркин затаскивает Рейнджерс в финал Восточ...   \n",
       "...                                                  ...   \n",
       "38735  8 битная буря снова накрыла пикселями автомоби...   \n",
       "38736  Ира Сидоркова объясняет как сказалась на ее ма...   \n",
       "38737  24 я ракетка мира хорват Марин Чилич обыграл и...   \n",
       "38738  Стал известен календарь мужской сборной России...   \n",
       "38739  Первенство ВХЛ. Первый этап Динамо Алтай Бн ЦС...   \n",
       "\n",
       "                                       text_preprocessed  rank  \n",
       "0      волшебные фото виктория поплавская евгениямедв...     2  \n",
       "1      возвращение подземелье треша эйфория тупости ж...     1  \n",
       "2      лучшие чешские вратари доминик доминатор гашек...     2  \n",
       "3      wаrhаmmеr40к валрак решил подкормить сильно св...     1  \n",
       "4      шестеркин затаскивает рейнджерс финал восточно...     4  \n",
       "...                                                  ...   ...  \n",
       "38735  битная буря снова накрыла пикселями автомобиль...     1  \n",
       "38736  ира сидоркова объясняет сказалась машине резул...     1  \n",
       "38737  ракетка мира хорват марин чилич обыграл испанц...     1  \n",
       "38738  стал известен календарь мужской сборной россии...     2  \n",
       "38739  первенство вхл первый этап динамо алтай бн цск...     1  \n",
       "\n",
       "[38740 rows x 5 columns]"
      ]
     },
     "execution_count": 11,
     "metadata": {},
     "output_type": "execute_result"
    }
   ],
   "source": [
    "df"
   ]
  },
  {
   "cell_type": "markdown",
   "id": "191fb85d",
   "metadata": {},
   "source": [
    "## Submit"
   ]
  },
  {
   "cell_type": "code",
   "execution_count": 12,
   "id": "87051a9c",
   "metadata": {},
   "outputs": [],
   "source": [
    "hidden = pd.read_csv(\"../data/test.csv\")"
   ]
  },
  {
   "cell_type": "code",
   "execution_count": 13,
   "id": "ffc2c296",
   "metadata": {},
   "outputs": [
    {
     "name": "stderr",
     "output_type": "stream",
     "text": [
      "100% 26260/26260 [00:13<00:00, 1997.92it/s]\n"
     ]
    }
   ],
   "source": [
    "hidden[\"text_preprocessed\"] = hidden[\"text\"].progress_apply(preprocessor._preprocess)"
   ]
  },
  {
   "cell_type": "code",
   "execution_count": 14,
   "id": "39fcdf7f",
   "metadata": {},
   "outputs": [
    {
     "name": "stderr",
     "output_type": "stream",
     "text": [
      "100% 26260/26260 [00:16<00:00, 1635.64it/s]\n"
     ]
    }
   ],
   "source": [
    "categories, ranks = voter.vote(hidden.text_preprocessed)"
   ]
  },
  {
   "cell_type": "code",
   "execution_count": 15,
   "id": "4a758183",
   "metadata": {},
   "outputs": [],
   "source": [
    "hidden[\"rank\"]     = ranks\n",
    "hidden[\"category\"] = categories"
   ]
  },
  {
   "cell_type": "code",
   "execution_count": 17,
   "id": "1e7e10c3",
   "metadata": {},
   "outputs": [
    {
     "data": {
      "text/html": [
       "<div>\n",
       "<style scoped>\n",
       "    .dataframe tbody tr th:only-of-type {\n",
       "        vertical-align: middle;\n",
       "    }\n",
       "\n",
       "    .dataframe tbody tr th {\n",
       "        vertical-align: top;\n",
       "    }\n",
       "\n",
       "    .dataframe thead th {\n",
       "        text-align: right;\n",
       "    }\n",
       "</style>\n",
       "<table border=\"1\" class=\"dataframe\">\n",
       "  <thead>\n",
       "    <tr style=\"text-align: right;\">\n",
       "      <th></th>\n",
       "      <th>oid</th>\n",
       "      <th>text</th>\n",
       "      <th>text_preprocessed</th>\n",
       "      <th>rank</th>\n",
       "      <th>category</th>\n",
       "    </tr>\n",
       "  </thead>\n",
       "  <tbody>\n",
       "    <tr>\n",
       "      <th>0</th>\n",
       "      <td>749208109</td>\n",
       "      <td>СПОЧНО СООБЩЕСТВО ПРОДАЕТСЯ ЗА 1300Р ЗА ПОКУПК...</td>\n",
       "      <td>спочно сообщество продается 1300р покупкой пиш...</td>\n",
       "      <td>1</td>\n",
       "      <td>unknown</td>\n",
       "    </tr>\n",
       "    <tr>\n",
       "      <th>1</th>\n",
       "      <td>452466036</td>\n",
       "      <td>Естественное восстановление после тяжелой трен...</td>\n",
       "      <td>естественное восстановление тяжелой тренировки...</td>\n",
       "      <td>1</td>\n",
       "      <td>unknown</td>\n",
       "    </tr>\n",
       "    <tr>\n",
       "      <th>2</th>\n",
       "      <td>161038103</td>\n",
       "      <td>Тема нарядов продолжается Одна из британских ж...</td>\n",
       "      <td>тема нарядов продолжается одна британских журн...</td>\n",
       "      <td>1</td>\n",
       "      <td>unknown</td>\n",
       "    </tr>\n",
       "    <tr>\n",
       "      <th>3</th>\n",
       "      <td>663621910</td>\n",
       "      <td>Привет Избранный. Ты спрашиваешь себя ЧТО здес...</td>\n",
       "      <td>привет избранный спрашиваешь происходит ответ ...</td>\n",
       "      <td>1</td>\n",
       "      <td>unknown</td>\n",
       "    </tr>\n",
       "    <tr>\n",
       "      <th>4</th>\n",
       "      <td>566255305</td>\n",
       "      <td>КОРОЛЬ ПЯТИСОТНИКОВ В ДЕЛЕ Андрей Рублев успеш...</td>\n",
       "      <td>король пятисотников деле андрей рублев успешно...</td>\n",
       "      <td>1</td>\n",
       "      <td>unknown</td>\n",
       "    </tr>\n",
       "    <tr>\n",
       "      <th>...</th>\n",
       "      <td>...</td>\n",
       "      <td>...</td>\n",
       "      <td>...</td>\n",
       "      <td>...</td>\n",
       "      <td>...</td>\n",
       "    </tr>\n",
       "    <tr>\n",
       "      <th>26255</th>\n",
       "      <td>169728316</td>\n",
       "      <td>Выиграй коллекционный пазл по Wortokenoid of W...</td>\n",
       "      <td>выиграй коллекционный пазл оf участия поставь ...</td>\n",
       "      <td>1</td>\n",
       "      <td>unknown</td>\n",
       "    </tr>\n",
       "    <tr>\n",
       "      <th>26256</th>\n",
       "      <td>279369911</td>\n",
       "      <td>Волейбол от первого лица Егора Пупынина переко...</td>\n",
       "      <td>волейбол первого лица егора пупынина перекочев...</td>\n",
       "      <td>1</td>\n",
       "      <td>volleyball</td>\n",
       "    </tr>\n",
       "    <tr>\n",
       "      <th>26257</th>\n",
       "      <td>600699419</td>\n",
       "      <td>Вы были когда нибудь на свидании где вам задав...</td>\n",
       "      <td>свидании задавали ооочень вопросов знаем насто...</td>\n",
       "      <td>1</td>\n",
       "      <td>unknown</td>\n",
       "    </tr>\n",
       "    <tr>\n",
       "      <th>26258</th>\n",
       "      <td>560223506</td>\n",
       "      <td>ТОП 20 самых эффективных общефизических упражн...</td>\n",
       "      <td>топ самых эффективных общефизических упражнени...</td>\n",
       "      <td>1</td>\n",
       "      <td>unknown</td>\n",
       "    </tr>\n",
       "    <tr>\n",
       "      <th>26259</th>\n",
       "      <td>724673712</td>\n",
       "      <td>Присылайте ваши беговые фото в комментарии к э...</td>\n",
       "      <td>присылайте ваши беговые фото комментарии этому...</td>\n",
       "      <td>1</td>\n",
       "      <td>athletics</td>\n",
       "    </tr>\n",
       "  </tbody>\n",
       "</table>\n",
       "<p>26260 rows × 5 columns</p>\n",
       "</div>"
      ],
      "text/plain": [
       "             oid                                               text  \\\n",
       "0      749208109  СПОЧНО СООБЩЕСТВО ПРОДАЕТСЯ ЗА 1300Р ЗА ПОКУПК...   \n",
       "1      452466036  Естественное восстановление после тяжелой трен...   \n",
       "2      161038103  Тема нарядов продолжается Одна из британских ж...   \n",
       "3      663621910  Привет Избранный. Ты спрашиваешь себя ЧТО здес...   \n",
       "4      566255305  КОРОЛЬ ПЯТИСОТНИКОВ В ДЕЛЕ Андрей Рублев успеш...   \n",
       "...          ...                                                ...   \n",
       "26255  169728316  Выиграй коллекционный пазл по Wortokenoid of W...   \n",
       "26256  279369911  Волейбол от первого лица Егора Пупынина переко...   \n",
       "26257  600699419  Вы были когда нибудь на свидании где вам задав...   \n",
       "26258  560223506  ТОП 20 самых эффективных общефизических упражн...   \n",
       "26259  724673712  Присылайте ваши беговые фото в комментарии к э...   \n",
       "\n",
       "                                       text_preprocessed  rank    category  \n",
       "0      спочно сообщество продается 1300р покупкой пиш...     1     unknown  \n",
       "1      естественное восстановление тяжелой тренировки...     1     unknown  \n",
       "2      тема нарядов продолжается одна британских журн...     1     unknown  \n",
       "3      привет избранный спрашиваешь происходит ответ ...     1     unknown  \n",
       "4      король пятисотников деле андрей рублев успешно...     1     unknown  \n",
       "...                                                  ...   ...         ...  \n",
       "26255  выиграй коллекционный пазл оf участия поставь ...     1     unknown  \n",
       "26256  волейбол первого лица егора пупынина перекочев...     1  volleyball  \n",
       "26257  свидании задавали ооочень вопросов знаем насто...     1     unknown  \n",
       "26258  топ самых эффективных общефизических упражнени...     1     unknown  \n",
       "26259  присылайте ваши беговые фото комментарии этому...     1   athletics  \n",
       "\n",
       "[26260 rows x 5 columns]"
      ]
     },
     "execution_count": 17,
     "metadata": {},
     "output_type": "execute_result"
    }
   ],
   "source": [
    "hidden"
   ]
  },
  {
   "cell_type": "code",
   "execution_count": 18,
   "id": "699609e0",
   "metadata": {},
   "outputs": [
    {
     "data": {
      "text/plain": [
       "unknown         18847\n",
       "athletics        1195\n",
       "boardgames        948\n",
       "autosport         881\n",
       "basketball        749\n",
       "hockey            657\n",
       "volleyball        605\n",
       "martial_arts      601\n",
       "tennis            481\n",
       "football          371\n",
       "esport            308\n",
       "motosport         257\n",
       "winter_sport      191\n",
       "extreme           169\n",
       "Name: category, dtype: int64"
      ]
     },
     "execution_count": 18,
     "metadata": {},
     "output_type": "execute_result"
    }
   ],
   "source": [
    "hidden.category.value_counts()"
   ]
  },
  {
   "cell_type": "code",
   "execution_count": 21,
   "id": "89c58d11",
   "metadata": {},
   "outputs": [],
   "source": [
    "result = hidden.groupby([\"oid\"]).apply(lambda df: Counter(df.category).most_common(1)[0][0]).rename(\"category\").reset_index()"
   ]
  },
  {
   "cell_type": "code",
   "execution_count": 27,
   "id": "4520115d",
   "metadata": {},
   "outputs": [],
   "source": [
    "result[result.category != \"unknown\"].to_csv(\"../data/submission.csv\", index=False)"
   ]
  },
  {
   "cell_type": "code",
   "execution_count": 16,
   "id": "43f9c72b",
   "metadata": {},
   "outputs": [],
   "source": [
    "hidden.to_csv(\"../data/submission_reg_exp.csv\", index=False)"
   ]
  }
 ],
 "metadata": {
  "kernelspec": {
   "display_name": "Python 3 (ipykernel)",
   "language": "python",
   "name": "python3"
  },
  "language_info": {
   "codemirror_mode": {
    "name": "ipython",
    "version": 3
   },
   "file_extension": ".py",
   "mimetype": "text/x-python",
   "name": "python",
   "nbconvert_exporter": "python",
   "pygments_lexer": "ipython3",
   "version": "3.8.5"
  }
 },
 "nbformat": 4,
 "nbformat_minor": 5
}
